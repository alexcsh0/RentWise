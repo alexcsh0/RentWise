{
 "cells": [
  {
   "cell_type": "markdown",
   "id": "1a003c81",
   "metadata": {},
   "source": [
    "# Complete Classification Model Training\n",
    "This notebook trains the classification model with ALL features specified in the original requirements."
   ]
  },
  {
   "cell_type": "code",
   "execution_count": 1,
   "id": "4c8ab01d",
   "metadata": {},
   "outputs": [],
   "source": [
    "import pandas as pd\n",
    "import numpy as np\n",
    "from sklearn.model_selection import train_test_split\n",
    "from sklearn.ensemble import RandomForestClassifier\n",
    "from sklearn.metrics import classification_report, confusion_matrix, accuracy_score\n",
    "import joblib\n",
    "import matplotlib.pyplot as plt\n",
    "import seaborn as sns"
   ]
  },
  {
   "cell_type": "code",
   "execution_count": 2,
   "id": "35867234",
   "metadata": {},
   "outputs": [
    {
     "name": "stdout",
     "output_type": "stream",
     "text": [
      "Complete regression model loaded\n"
     ]
    }
   ],
   "source": [
    "# Load the complete regression model to get predictions\n",
    "regression_model = joblib.load('../models/complete_regression_model.pkl')\n",
    "print(\"Complete regression model loaded\")"
   ]
  },
  {
   "cell_type": "code",
   "execution_count": 3,
   "id": "53c4231c",
   "metadata": {},
   "outputs": [
    {
     "name": "stdout",
     "output_type": "stream",
     "text": [
      "Dataset loaded with shape: (25293, 169)\n",
      "After price filtering: (25293, 169)\n"
     ]
    }
   ],
   "source": [
    "# Load the data\n",
    "df = pd.read_csv('../data/processed/cleaned_rentals_25k.csv')\n",
    "print(f\"Dataset loaded with shape: {df.shape}\")\n",
    "\n",
    "# Basic preprocessing\n",
    "df = df[df['price'] <= 7000]  # keep it manageable\n",
    "df = df[df['price'] >= 100]   # remove listings with price of $0\n",
    "\n",
    "print(f\"After price filtering: {df.shape}\")"
   ]
  },
  {
   "cell_type": "code",
   "execution_count": 4,
   "id": "c574485e",
   "metadata": {},
   "outputs": [
    {
     "name": "stdout",
     "output_type": "stream",
     "text": [
      "Final dataset shape: (25293, 20)\n",
      "Features included: ['sq_feet', 'beds', 'baths', 'type_Townhouse', 'furnishing_Negotiable', 'furnishing_Unfurnished', 'type_Basement', 'type_Condo Unit', 'type_Main Floor', 'latitude', 'longitude', 'price', 'smoking_Non-Smoking', 'smoking_Smoke Free Building', 'cats_True', 'dogs_True', 'lease_term_6 months', 'lease_term_Long Term', 'lease_term_Negotiable', 'lease_term_Short Term']\n"
     ]
    }
   ],
   "source": [
    "# Define ALL features as specified in original requirements\n",
    "cols_to_keep = [\n",
    "    \"sq_feet\", \"beds\", \"baths\", \"type_Townhouse\", \"furnishing_Negotiable\", \"furnishing_Unfurnished\",\n",
    "    \"type_Basement\", \"type_Condo Unit\", \"type_Main Floor\", \"latitude\", \"longitude\", \"price\",\n",
    "    \"smoking_Non-Smoking\", \"smoking_Smoke Free Building\", \"cats_True\", \"dogs_True\",\n",
    "    \"lease_term_6 months\", \"lease_term_Long Term\", \"lease_term_Negotiable\", \"lease_term_Short Term\"\n",
    "]\n",
    "\n",
    "# Keep only available columns and drop NaN\n",
    "available_cols = [col for col in cols_to_keep if col in df.columns]\n",
    "df_clean = df[available_cols].dropna()\n",
    "\n",
    "print(f\"Final dataset shape: {df_clean.shape}\")\n",
    "print(f\"Features included: {available_cols}\")"
   ]
  },
  {
   "cell_type": "code",
   "execution_count": 5,
   "id": "c2f45bdb",
   "metadata": {},
   "outputs": [
    {
     "name": "stdout",
     "output_type": "stream",
     "text": [
      "Label distribution:\n",
      "fair           9875\n",
      "underpriced    8276\n",
      "overpriced     7142\n",
      "Name: count, dtype: int64\n"
     ]
    }
   ],
   "source": [
    "# Create predictions using regression model\n",
    "X_features = df_clean[[col for col in available_cols if col != 'price']]\n",
    "predicted_prices = regression_model.predict(X_features)\n",
    "\n",
    "# Create labels based on actual vs predicted price\n",
    "actual_prices = df_clean['price'].values\n",
    "price_ratio = actual_prices / predicted_prices\n",
    "\n",
    "# Define classification logic (same as original)\n",
    "def classify_price(ratio):\n",
    "    if ratio < 0.9:\n",
    "        return \"underpriced\"\n",
    "    elif ratio > 1.1:\n",
    "        return \"overpriced\"\n",
    "    else:\n",
    "        return \"fair\"\n",
    "\n",
    "labels = [classify_price(ratio) for ratio in price_ratio]\n",
    "df_clean['label'] = labels\n",
    "\n",
    "print(\"Label distribution:\")\n",
    "print(pd.Series(labels).value_counts())"
   ]
  },
  {
   "cell_type": "code",
   "execution_count": 6,
   "id": "6c7ede58",
   "metadata": {},
   "outputs": [
    {
     "name": "stdout",
     "output_type": "stream",
     "text": [
      "Classification feature matrix shape: (25293, 20)\n",
      "Classification target shape: (25293,)\n",
      "Features for classification: ['sq_feet', 'beds', 'baths', 'type_Townhouse', 'furnishing_Negotiable', 'furnishing_Unfurnished', 'type_Basement', 'type_Condo Unit', 'type_Main Floor', 'latitude', 'longitude', 'price', 'smoking_Non-Smoking', 'smoking_Smoke Free Building', 'cats_True', 'dogs_True', 'lease_term_6 months', 'lease_term_Long Term', 'lease_term_Negotiable', 'lease_term_Short Term']\n"
     ]
    }
   ],
   "source": [
    "# Prepare features for classification (including actual price as specified)\n",
    "# For classification, we include ALL features INCLUDING the actual price\n",
    "X_classification = df_clean[[col for col in available_cols]]  # includes price\n",
    "y_classification = df_clean['label']\n",
    "\n",
    "print(f\"Classification feature matrix shape: {X_classification.shape}\")\n",
    "print(f\"Classification target shape: {y_classification.shape}\")\n",
    "print(f\"Features for classification: {list(X_classification.columns)}\")"
   ]
  },
  {
   "cell_type": "code",
   "execution_count": 7,
   "id": "70239a43",
   "metadata": {},
   "outputs": [
    {
     "name": "stdout",
     "output_type": "stream",
     "text": [
      "Training set: (20234, 20), Testing set: (5059, 20)\n"
     ]
    }
   ],
   "source": [
    "# Split the data\n",
    "X_train, X_test, y_train, y_test = train_test_split(\n",
    "    X_classification, y_classification, test_size=0.2, random_state=42, stratify=y_classification\n",
    ")\n",
    "print(f\"Training set: {X_train.shape}, Testing set: {X_test.shape}\")"
   ]
  },
  {
   "cell_type": "code",
   "execution_count": 8,
   "id": "afc0884e",
   "metadata": {},
   "outputs": [
    {
     "name": "stdout",
     "output_type": "stream",
     "text": [
      "Classifier trained successfully!\n"
     ]
    }
   ],
   "source": [
    "# Train the classifier\n",
    "classifier = RandomForestClassifier(n_estimators=100, random_state=42)\n",
    "classifier.fit(X_train, y_train)\n",
    "print(\"Classifier trained successfully!\")"
   ]
  },
  {
   "cell_type": "code",
   "execution_count": 9,
   "id": "0acb18a7",
   "metadata": {},
   "outputs": [
    {
     "name": "stdout",
     "output_type": "stream",
     "text": [
      "Accuracy: 0.945\n",
      "\n",
      "Classification Report:\n",
      "              precision    recall  f1-score   support\n",
      "\n",
      "        fair       0.92      0.94      0.93      1975\n",
      "  overpriced       0.96      0.95      0.95      1429\n",
      " underpriced       0.96      0.95      0.96      1655\n",
      "\n",
      "    accuracy                           0.95      5059\n",
      "   macro avg       0.95      0.95      0.95      5059\n",
      "weighted avg       0.95      0.95      0.95      5059\n",
      "\n"
     ]
    }
   ],
   "source": [
    "# Make predictions and evaluate\n",
    "y_pred = classifier.predict(X_test)\n",
    "\n",
    "accuracy = accuracy_score(y_test, y_pred)\n",
    "print(f\"Accuracy: {accuracy:.3f}\")\n",
    "print(\"\\nClassification Report:\")\n",
    "print(classification_report(y_test, y_pred))"
   ]
  },
  {
   "cell_type": "code",
   "execution_count": 10,
   "id": "73be5a26",
   "metadata": {},
   "outputs": [
    {
     "name": "stdout",
     "output_type": "stream",
     "text": [
      "\n",
      "Feature Importance:\n",
      "                        Feature  Importance\n",
      "11                        price    0.374796\n",
      "9                      latitude    0.173408\n",
      "10                    longitude    0.140405\n",
      "0                       sq_feet    0.110565\n",
      "2                         baths    0.053452\n",
      "1                          beds    0.039384\n",
      "7               type_Condo Unit    0.019361\n",
      "15                    dogs_True    0.018026\n",
      "12          smoking_Non-Smoking    0.013655\n",
      "14                    cats_True    0.013642\n",
      "5        furnishing_Unfurnished    0.008917\n",
      "6                 type_Basement    0.008006\n",
      "3                type_Townhouse    0.006337\n",
      "17         lease_term_Long Term    0.005107\n",
      "18        lease_term_Negotiable    0.003864\n",
      "8               type_Main Floor    0.003680\n",
      "19        lease_term_Short Term    0.003192\n",
      "13  smoking_Smoke Free Building    0.002125\n",
      "4         furnishing_Negotiable    0.002058\n",
      "16          lease_term_6 months    0.000018\n"
     ]
    }
   ],
   "source": [
    "# Feature importance\n",
    "feature_importance = pd.DataFrame({\n",
    "    'Feature': X_train.columns,\n",
    "    'Importance': classifier.feature_importances_\n",
    "}).sort_values('Importance', ascending=False)\n",
    "\n",
    "print(\"\\nFeature Importance:\")\n",
    "print(feature_importance)"
   ]
  },
  {
   "cell_type": "code",
   "execution_count": 11,
   "id": "3e700293",
   "metadata": {},
   "outputs": [
    {
     "data": {
      "image/png": "[encoded data removed]",
      "text/plain": [
       "<Figure size 800x600 with 2 Axes>"
      ]
     },
     "metadata": {},
     "output_type": "display_data"
    }
   ],
   "source": [
    "# Confusion Matrix\n",
    "plt.figure(figsize=(8, 6))\n",
    "cm = confusion_matrix(y_test, y_pred)\n",
    "sns.heatmap(cm, annot=True, fmt='d', cmap='Blues', \n",
    "            xticklabels=['fair', 'overpriced', 'underpriced'],\n",
    "            yticklabels=['fair', 'overpriced', 'underpriced'])\n",
    "plt.title('Confusion Matrix')\n",
    "plt.ylabel('Actual')\n",
    "plt.xlabel('Predicted')\n",
    "plt.show()"
   ]
  },
  {
   "cell_type": "code",
   "execution_count": 12,
   "id": "8a51e357",
   "metadata": {},
   "outputs": [
    {
     "name": "stdout",
     "output_type": "stream",
     "text": [
      "Classifier saved as 'complete_classifier_model.pkl'\n",
      "Feature names saved. Total features: 20\n",
      "Features: ['sq_feet', 'beds', 'baths', 'type_Townhouse', 'furnishing_Negotiable', 'furnishing_Unfurnished', 'type_Basement', 'type_Condo Unit', 'type_Main Floor', 'latitude', 'longitude', 'price', 'smoking_Non-Smoking', 'smoking_Smoke Free Building', 'cats_True', 'dogs_True', 'lease_term_6 months', 'lease_term_Long Term', 'lease_term_Negotiable', 'lease_term_Short Term']\n"
     ]
    }
   ],
   "source": [
    "# Save the classifier\n",
    "joblib.dump(classifier, '../models/complete_classifier_model.pkl')\n",
    "print(\"Classifier saved as 'complete_classifier_model.pkl'\")\n",
    "\n",
    "# Save feature names for reference\n",
    "classifier_features = list(X_classification.columns)\n",
    "joblib.dump(classifier_features, '../models/classifier_feature_names.pkl')\n",
    "print(f\"Feature names saved. Total features: {len(classifier_features)}\")\n",
    "print(f\"Features: {classifier_features}\")"
   ]
  }
 ],
 "metadata": {
  "kernelspec": {
   "display_name": ".venv",
   "language": "python",
   "name": "python3"
  },
  "language_info": {
   "codemirror_mode": {
    "name": "ipython",
    "version": 3
   },
   "file_extension": ".py",
   "mimetype": "text/x-python",
   "name": "python",
   "nbconvert_exporter": "python",
   "pygments_lexer": "ipython3",
   "version": "3.12.8"
  }
 },
 "nbformat": 4,
 "nbformat_minor": 5
}
